{
  "nbformat": 4,
  "nbformat_minor": 0,
  "metadata": {
    "colab": {
      "provenance": [],
      "authorship_tag": "ABX9TyNMLzVzac9O78a4BLFItQqL"
    },
    "kernelspec": {
      "name": "python3",
      "display_name": "Python 3"
    },
    "language_info": {
      "name": "python"
    }
  },
  "cells": [
    {
      "cell_type": "code",
      "execution_count": null,
      "metadata": {
        "id": "6IUoddaY4lGE"
      },
      "outputs": [],
      "source": [
        "print(\"-\"*40)\n",
        "print(\"Desafio 1 - informações de usuário\")\n",
        "print(\"-\"*40)\n",
        "\n",
        "nome = input(\"Nome do usuário: \")\n",
        "idade = input(\"Idade: \")\n",
        "cidade = input(\"Cidade: \")\n",
        "\n",
        "print(f\"Olá, {nome}! Você tem {idade} anos e mora em {cidade}\")"
      ]
    }
  ]
}